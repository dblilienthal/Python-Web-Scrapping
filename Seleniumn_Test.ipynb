{
 "cells": [
  {
   "cell_type": "code",
   "execution_count": null,
   "metadata": {},
   "outputs": [],
   "source": [
    "# Have these imports\n",
    "from selenium import webdriver\n",
    "from selenium.webdriver.common.keys import Keys\n",
    "import time"
   ]
  },
  {
   "cell_type": "code",
   "execution_count": null,
   "metadata": {},
   "outputs": [],
   "source": [
    "# Enter the path of the executable webdriver\n",
    "executable_path=\"C:/Users/dlili/OneDrive/Documents/CSUMB/Project Stuff/chromedriver_win32/chromedriver.exe\"\n",
    "\n",
    "# Select the Chrome Webdriver\n",
    "driver = webdriver.Chrome(executable_path)"
   ]
  },
  {
   "cell_type": "markdown",
   "metadata": {},
   "source": [
    "## Testing out on govjobs"
   ]
  },
  {
   "cell_type": "markdown",
   "metadata": {},
   "source": [
    "This first one is the equivalent of typing Java into the search bar and hitting enter, then returning the source code of the results"
   ]
  },
  {
   "cell_type": "code",
   "execution_count": null,
   "metadata": {},
   "outputs": [],
   "source": [
    "# Type in the URL we want\n",
    "url = \"https://www.usajobs.gov/\"\n",
    "\n",
    "# Tell the script to wait 2 seconds whenever moving\n",
    "driver.implicitly_wait(2) \n",
    "\n",
    "# Enter the website we want to run\n",
    "driver.get(url)\n",
    "\n",
    "# Returns us an object representation of the search bar in the govjobs that we can now interact with\n",
    "search = driver.find_element_by_id(\"nav-keyword\")\n",
    "\n",
    "# We can search for whatever we want in the search bar\n",
    "target = \"Java\"\n",
    "search.send_keys(target)\n",
    "# This allows us to hit enter (RETURN = ENTER)\n",
    "search.send_keys(Keys.RETURN)\n",
    "\n",
    "# Prints out all source HTML stuff \n",
    "print(driver.page_source)\n",
    "\n",
    "# Put a delay so we can see what it's doing\n",
    "time.sleep(5)\n",
    "\n",
    "driver.quit()"
   ]
  },
  {
   "cell_type": "markdown",
   "metadata": {},
   "source": [
    "This script goes and types in Java into the home searchbar, hits enter, and prints out all the summary listings on the result page"
   ]
  },
  {
   "cell_type": "code",
   "execution_count": null,
   "metadata": {},
   "outputs": [],
   "source": [
    "# Enter the path of the executable webdriver\n",
    "executable_path=\"C:/Users/dlili/OneDrive/Documents/CSUMB/Project Stuff/chromedriver_win32/chromedriver.exe\"\n",
    "\n",
    "# Select the Chrome Webdriver\n",
    "driver = webdriver.Chrome(executable_path)\n",
    "\n",
    "# Tell the script to wait 2 seconds whenever moving\n",
    "driver.implicitly_wait(2) \n",
    "\n",
    "# Type in the URL we want\n",
    "url = \"https://www.usajobs.gov/\"\n",
    "\n",
    "# Enter the website we want to run\n",
    "driver.get(url)\n",
    "\n",
    "# Returns us an object representation of the search bar in the govjobs that we can now interact with\n",
    "search = driver.find_element_by_id(\"nav-keyword\")\n",
    "\n",
    "# We can search for whatever we want in the search bar\n",
    "target = \"Java\"\n",
    "search.send_keys(target)\n",
    "# This allows us to hit enter (RETURN = ENTER)\n",
    "search.send_keys(Keys.RETURN)\n",
    "\n",
    "for i in range(1,26):\n",
    "    search_results = driver.find_element_by_xpath(\"//*[@id='usajobs-search-results']/div[\"+str(i)+\"]\")\n",
    "    #print(search_results)\n",
    "    print(search_results.text)\n",
    "    print(\"\\n\")\n",
    "    # Wait 3 seconds\n",
    "    driver.implicitly_wait(3)\n",
    "    \n",
    "time.sleep(10)\n",
    "\n",
    "driver.quit()"
   ]
  },
  {
   "cell_type": "markdown",
   "metadata": {},
   "source": [
    "This script opens the website usajobs.gov, types in the keyword 'Java' into the search bar, hits search, and gets the first link to the first job page. "
   ]
  },
  {
   "cell_type": "code",
   "execution_count": null,
   "metadata": {},
   "outputs": [],
   "source": [
    "# Enter the path of the executable webdriver\n",
    "executable_path=\"C:/Users/dlili/OneDrive/Documents/CSUMB/Project Stuff/chromedriver_win32/chromedriver.exe\"\n",
    "\n",
    "# Select the Chrome Webdriver\n",
    "driver = webdriver.Chrome(executable_path)\n",
    "\n",
    "# Tell the script to wait 2 seconds whenever moving\n",
    "driver.implicitly_wait(2) \n",
    "\n",
    "# Type in the URL we want\n",
    "url = \"https://www.usajobs.gov/\"\n",
    "\n",
    "# Enter the website we want to run\n",
    "driver.get(url)\n",
    "\n",
    "# Returns us an object representation of the search bar in the govjobs that we can now interact with\n",
    "search = driver.find_element_by_id(\"nav-keyword\")\n",
    "\n",
    "# We can search for whatever we want in the search bar\n",
    "target = \"Java\"\n",
    "search.send_keys(target)\n",
    "# This allows us to hit enter (RETURN = ENTER)\n",
    "search.send_keys(Keys.RETURN)\n",
    "\n",
    "# Gets the link to the first advertisement \n",
    "link_to_first_ad = driver.find_element_by_xpath(\"//*[@id='usajobs-search-result-1']\").get_attribute(\"href\")\n",
    "\n",
    "print(link_to_first_ad)\n",
    "    \n",
    "time.sleep(10)\n",
    "\n",
    "driver.quit()"
   ]
  },
  {
   "cell_type": "markdown",
   "metadata": {},
   "source": [
    "This script opens the website usajobs.gov, types in the keyword 'Java' into the search bar, hits search, gets the first link to the first job page, goes to that link, and then prints out all the content underneath the 'main' id. "
   ]
  },
  {
   "cell_type": "code",
   "execution_count": null,
   "metadata": {},
   "outputs": [],
   "source": [
    "# Enter the path of the executable webdriver\n",
    "executable_path=\"C:/Users/dlili/OneDrive/Documents/CSUMB/Project Stuff/chromedriver_win32/chromedriver.exe\"\n",
    "\n",
    "# Select the Chrome Webdriver\n",
    "driver = webdriver.Chrome(executable_path)\n",
    "\n",
    "# Tell the script to wait 2 seconds whenever moving\n",
    "driver.implicitly_wait(2) \n",
    "\n",
    "# Type in the URL we want\n",
    "url = \"https://www.usajobs.gov/\"\n",
    "\n",
    "# Enter the website we want to run\n",
    "driver.get(url)\n",
    "\n",
    "# Returns us an object representation of the search bar in the govjobs that we can now interact with\n",
    "search = driver.find_element_by_id(\"nav-keyword\")\n",
    "\n",
    "# We can search for whatever we want in the search bar\n",
    "target = \"Java\"\n",
    "search.send_keys(target)\n",
    "# This allows us to hit enter (RETURN = ENTER)\n",
    "search.send_keys(Keys.RETURN)\n",
    "\n",
    "# Gets the link to the first advertisement \n",
    "link_to_first_ad = driver.find_element_by_xpath(\"//*[@id='usajobs-search-result-1']\").get_attribute(\"href\")\n",
    "\n",
    "# Go to the first ads page\n",
    "driver.get(link_to_first_ad)\n",
    "\n",
    "# gets everything that is under the main-content id\n",
    "main = driver.find_element_by_id(\"main-content\")\n",
    "\n",
    "# Prints out the main\n",
    "print(main.text)\n",
    "    \n",
    "time.sleep(10)\n",
    "\n",
    "driver.quit()"
   ]
  },
  {
   "cell_type": "markdown",
   "metadata": {},
   "source": [
    "This script opens the website usajobs.gov, types in the keyword 'Java' into the search bar, hits search, gets the link to all the job ads on the page, and then goes to all the links and prints out the URL"
   ]
  },
  {
   "cell_type": "code",
   "execution_count": null,
   "metadata": {},
   "outputs": [],
   "source": [
    "# Enter the path of the executable webdriver\n",
    "executable_path=\"C:/Users/dlili/OneDrive/Documents/CSUMB/Project Stuff/chromedriver_win32/chromedriver.exe\"\n",
    "\n",
    "# Select the Chrome Webdriver\n",
    "driver = webdriver.Chrome(executable_path)\n",
    "\n",
    "# Tell the script to wait 2 seconds whenever moving\n",
    "driver.implicitly_wait(2) \n",
    "\n",
    "# Type in the URL we want\n",
    "url = \"https://www.usajobs.gov/\"\n",
    "\n",
    "# Enter the website we want to run\n",
    "driver.get(url)\n",
    "\n",
    "# Returns us an object representation of the search bar in the govjobs that we can now interact with\n",
    "search = driver.find_element_by_id(\"nav-keyword\")\n",
    "\n",
    "# We can search for whatever we want in the search bar\n",
    "target = \"Java\"\n",
    "search.send_keys(target)\n",
    "# This allows us to hit enter (RETURN = ENTER)\n",
    "search.send_keys(Keys.RETURN)\n",
    "\n",
    "# Gets the link to the first 25 advertisement \n",
    "job_links = []\n",
    "for i in range(1,24):\n",
    "    link_to_ad = driver.find_element_by_xpath(\"//*[@id='usajobs-search-result-\"+str(i)+\"']\").get_attribute(\"href\")\n",
    "    print(link_to_ad)\n",
    "    job_links.append(link_to_ad)\n",
    "    \n",
    "# Loop through all the ads and print something out about those pages\n",
    "for link in job_links:\n",
    "    \n",
    "    # Go to the first ads page\n",
    "    driver.get(link)\n",
    "    # gets everything that is under the main-content id\n",
    "    main = driver.find_element_by_id(\"main-content\")\n",
    "    # Prints the current URL\n",
    "    print(driver.current_url)\n",
    "    # Prints out the object \n",
    "    print(main)\n",
    "    \n",
    "time.sleep(10)\n",
    "\n",
    "driver.quit()"
   ]
  }
 ],
 "metadata": {
  "kernelspec": {
   "display_name": "Python 3",
   "language": "python",
   "name": "python3"
  },
  "language_info": {
   "codemirror_mode": {
    "name": "ipython",
    "version": 3
   },
   "file_extension": ".py",
   "mimetype": "text/x-python",
   "name": "python",
   "nbconvert_exporter": "python",
   "pygments_lexer": "ipython3",
   "version": "3.7.6"
  }
 },
 "nbformat": 4,
 "nbformat_minor": 4
}
